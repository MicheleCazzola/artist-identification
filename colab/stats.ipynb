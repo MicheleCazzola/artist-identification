{
  "cells": [
    {
      "cell_type": "markdown",
      "metadata": {
        "id": "kmIObvmZjuQF"
      },
      "source": [
        "# Compute statistics\n",
        "Auxiliary notebook to compute statistics on the dataset. The following are used:\n",
        "- *stats.py*: compute normalization statistics on the training set (for input normalization)\n",
        "- *stats_all.py*: compute various statistics on the whole dataset."
      ]
    },
    {
      "cell_type": "markdown",
      "metadata": {
        "id": "KcEmvBaNjxr4"
      },
      "source": [
        "## Environment setup"
      ]
    },
    {
      "cell_type": "markdown",
      "metadata": {
        "id": "fcKP14bVj0GC"
      },
      "source": [
        "### Git setup"
      ]
    },
    {
      "cell_type": "code",
      "execution_count": 2,
      "metadata": {
        "id": "pRlpU6rknFqX"
      },
      "outputs": [],
      "source": [
        "!git config --global core.compression 0\n",
        "!git config --global pack.windowMemory 100m\n",
        "!git config --global pack.packSizeLimit 100m\n",
        "!git config --global index.threads 4"
      ]
    },
    {
      "cell_type": "markdown",
      "metadata": {
        "id": "ayDxCTjOj6uP"
      },
      "source": [
        "### Dataset clone"
      ]
    },
    {
      "cell_type": "code",
      "execution_count": null,
      "metadata": {
        "id": "jiYTv4IGmxp2"
      },
      "outputs": [],
      "source": [
        "!git clone https://github.com/MicheleCazzola/artist-identification-dataset --depth=1 mlvm-dataset --progress --verbose\n",
        "!cd mlvm-dataset; git pull --all\n",
        "\n",
        "!cd mlvm-dataset; git status"
      ]
    },
    {
      "cell_type": "markdown",
      "metadata": {
        "id": "zj94KLy_j-OD"
      },
      "source": [
        "### Code clone"
      ]
    },
    {
      "cell_type": "code",
      "execution_count": null,
      "metadata": {
        "id": "1KxyoXEBnHAB"
      },
      "outputs": [],
      "source": [
        "!git clone https://github.com/MicheleCazzola/artist-identification.git mlvm-project --depth=1 --progress --verbose\n",
        "!cd mlvm-project; git pull --all\n",
        "\n",
        "!cd mlvm-project; git status"
      ]
    },
    {
      "cell_type": "markdown",
      "metadata": {
        "id": "wIRR70EdkDIA"
      },
      "source": [
        "### Dataset preprocessing"
      ]
    },
    {
      "cell_type": "code",
      "execution_count": 5,
      "metadata": {
        "id": "zUXDrB4WrIMo"
      },
      "outputs": [],
      "source": [
        "!mv mlvm-dataset/* mlvm-project/data"
      ]
    },
    {
      "cell_type": "code",
      "execution_count": null,
      "metadata": {
        "id": "qL6ARdCTrR5H"
      },
      "outputs": [],
      "source": [
        "!ls -la mlvm-project/data"
      ]
    },
    {
      "cell_type": "code",
      "execution_count": null,
      "metadata": {
        "colab": {
          "base_uri": "https://localhost:8080/"
        },
        "id": "4_UpXz_ssisb",
        "outputId": "d342da9e-6b5a-4b8b-f655-5b856630fcab"
      },
      "outputs": [],
      "source": [
        "%cd mlvm-project/data\n",
        "!sed -i 's/\\\\/\\//g' train.txt; sed -i 's/\\\\/\\//g' val.txt; sed -i 's/\\\\/\\//g' test.txt;\n",
        "!sed -i 's/artist_dataset\\///g' train.txt; sed -i 's/artist_dataset\\///g' val.txt; sed -i 's/artist_dataset\\///g' test.txt;\n",
        "%cd ../.."
      ]
    },
    {
      "cell_type": "markdown",
      "metadata": {
        "id": "npph3RBVkLhO"
      },
      "source": [
        "## Run\n",
        "Change *stats.py* into *stats_all.py* to compute statistics on the whole dataset."
      ]
    },
    {
      "cell_type": "code",
      "execution_count": 12,
      "metadata": {
        "id": "bnEYRyUAynN4"
      },
      "outputs": [],
      "source": [
        "!mv mlvm-project/scripts/stats/stats_all.py mlvm-project/"
      ]
    },
    {
      "cell_type": "code",
      "execution_count": null,
      "metadata": {
        "colab": {
          "base_uri": "https://localhost:8080/"
        },
        "id": "EaVw-MRHmiGd",
        "outputId": "9c1d9bad-33f5-4da2-e4cb-a6fee8f031ed",
        "vscode": {
          "languageId": "plaintext"
        }
      },
      "outputs": [],
      "source": [
        "!cd mlvm-project; chmod u+x stats_all.py; python stats_all.py data/artist_dataset"
      ]
    },
    {
      "cell_type": "markdown",
      "metadata": {
        "id": "Cwqt1bajkOTB"
      },
      "source": [
        "## Move files\n",
        "Only for computations of all dataset."
      ]
    },
    {
      "cell_type": "code",
      "execution_count": null,
      "metadata": {
        "id": "uWG7oQNVy4IR"
      },
      "outputs": [],
      "source": [
        "!mv mlvm-project/stats_all.py mlvm-project/scripts/stats/"
      ]
    }
  ],
  "metadata": {
    "accelerator": "GPU",
    "colab": {
      "gpuType": "T4",
      "provenance": []
    },
    "kernelspec": {
      "display_name": "Python 3",
      "name": "python3"
    },
    "language_info": {
      "name": "python"
    }
  },
  "nbformat": 4,
  "nbformat_minor": 0
}
