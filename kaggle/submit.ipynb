{
 "cells": [
  {
   "cell_type": "code",
   "execution_count": null,
   "metadata": {
    "execution": {
     "iopub.execute_input": "2025-01-22T22:08:21.452901Z",
     "iopub.status.busy": "2025-01-22T22:08:21.452651Z",
     "iopub.status.idle": "2025-01-22T22:08:24.551429Z",
     "shell.execute_reply": "2025-01-22T22:08:24.550324Z",
     "shell.execute_reply.started": "2025-01-22T22:08:21.452874Z"
    },
    "trusted": true
   },
   "outputs": [
    {
     "name": "stdout",
     "output_type": "stream",
     "text": [
      "Cloning into 'mlvm-project'...\n",
      "remote: Enumerating objects: 2187, done.\u001b[K\n",
      "remote: Counting objects: 100% (139/139), done.\u001b[K\n",
      "remote: Compressing objects: 100% (90/90), done.\u001b[K\n",
      "remote: Total 2187 (delta 65), reused 113 (delta 48), pack-reused 2048 (from 1)\u001b[K\n",
      "Receiving objects: 100% (2187/2187), 28.98 MiB | 36.64 MiB/s, done.\n",
      "Resolving deltas: 100% (1184/1184), done.\n",
      "On branch main\n",
      "Your branch is up to date with 'origin/main'.\n",
      "\n",
      "nothing to commit, working tree clean\n"
     ]
    }
   ],
   "source": [
    "!git clone https://github.com/MicheleCazzola/artist-identification.git mlvm-project\n",
    "\n",
    "!cd mlvm-project; git status"
   ]
  },
  {
   "cell_type": "code",
   "execution_count": 2,
   "metadata": {
    "execution": {
     "iopub.execute_input": "2025-01-22T22:08:24.553327Z",
     "iopub.status.busy": "2025-01-22T22:08:24.552981Z",
     "iopub.status.idle": "2025-01-22T22:08:24.677273Z",
     "shell.execute_reply": "2025-01-22T22:08:24.676279Z",
     "shell.execute_reply.started": "2025-01-22T22:08:24.553296Z"
    },
    "trusted": true
   },
   "outputs": [],
   "source": [
    "!cp -r mlvm-project/src ."
   ]
  },
  {
   "cell_type": "code",
   "execution_count": 3,
   "metadata": {
    "execution": {
     "iopub.execute_input": "2025-01-22T22:08:24.679229Z",
     "iopub.status.busy": "2025-01-22T22:08:24.678965Z",
     "iopub.status.idle": "2025-01-22T22:08:28.931882Z",
     "shell.execute_reply": "2025-01-22T22:08:28.930963Z",
     "shell.execute_reply.started": "2025-01-22T22:08:24.679207Z"
    },
    "trusted": true
   },
   "outputs": [],
   "source": [
    "import os\n",
    "import torch\n",
    "import csv\n",
    "from src.model.network import MultiBranchArtistNetwork\n",
    "from src.utils.utils import BackboneType\n",
    "from src.config.config import Config\n",
    "from torchvision import transforms\n",
    "from PIL import Image"
   ]
  },
  {
   "cell_type": "code",
   "execution_count": 4,
   "metadata": {
    "execution": {
     "iopub.execute_input": "2025-01-22T22:08:28.933513Z",
     "iopub.status.busy": "2025-01-22T22:08:28.933140Z",
     "iopub.status.idle": "2025-01-22T22:08:28.937788Z",
     "shell.execute_reply": "2025-01-22T22:08:28.937004Z",
     "shell.execute_reply.started": "2025-01-22T22:08:28.933483Z"
    },
    "trusted": true
   },
   "outputs": [],
   "source": [
    "def preprocess_image(image_path, size, stats):\n",
    "    #imagenet = [0.485, 0.456, 0.406], [0.229, 0.224, 0.225]\n",
    "    transform = transforms.Compose([\n",
    "        transforms.Resize((size, size)),\n",
    "        transforms.CenterCrop((size, size)),\n",
    "        transforms.ToTensor(),\n",
    "        transforms.Normalize(mean=stats[\"mean\"], std=stats[\"std\"]),\n",
    "    ])\n",
    "    image = Image.open(image_path).convert('RGB')\n",
    "    return transform(image).unsqueeze(0)"
   ]
  },
  {
   "cell_type": "code",
   "execution_count": 5,
   "metadata": {
    "execution": {
     "iopub.execute_input": "2025-01-22T22:08:28.938907Z",
     "iopub.status.busy": "2025-01-22T22:08:28.938704Z",
     "iopub.status.idle": "2025-01-22T22:08:28.950787Z",
     "shell.execute_reply": "2025-01-22T22:08:28.950037Z",
     "shell.execute_reply.started": "2025-01-22T22:08:28.938882Z"
    },
    "trusted": true
   },
   "outputs": [],
   "source": [
    "def predict_image(model, image_tensor, class_names):\n",
    "    with torch.no_grad():\n",
    "        outputs = model(image_tensor)\n",
    "        probabilities = torch.nn.functional.softmax(outputs[0], dim=0)\n",
    "        top5_prob, top5_catid = torch.topk(probabilities, 5)\n",
    "        return [(class_names[idx], prob.item()) for idx, prob in zip(top5_catid, top5_prob)]"
   ]
  },
  {
   "cell_type": "code",
   "execution_count": 6,
   "metadata": {
    "execution": {
     "iopub.execute_input": "2025-01-22T22:08:28.951633Z",
     "iopub.status.busy": "2025-01-22T22:08:28.951416Z",
     "iopub.status.idle": "2025-01-22T22:08:28.959611Z",
     "shell.execute_reply": "2025-01-22T22:08:28.958807Z",
     "shell.execute_reply.started": "2025-01-22T22:08:28.951614Z"
    },
    "trusted": true
   },
   "outputs": [],
   "source": [
    "def evaluate_model(model, test_dir, class_names, input_size, norm_stats, device):\n",
    "    model.eval()\n",
    "    image_files = [f for f in os.listdir(test_dir) if f.lower().endswith(('.png', '.jpg', '.jpeg'))]\n",
    "\n",
    "    csv_path = '/kaggle/working/predictions.csv'\n",
    "    with open(csv_path, 'w', newline='') as csvfile:\n",
    "        writer = csv.writer(csvfile)\n",
    "        writer.writerow(['Image Name', 'Class1', 'Class2', 'Class3', 'Class4', 'Class5'])\n",
    "\n",
    "        total = len(image_files)\n",
    "        for (step, image_file) in enumerate(image_files):\n",
    "            image_path = os.path.join(test_dir, image_file)\n",
    "            image_tensor = preprocess_image(image_path, input_size, norm_stats).to(device)\n",
    "            predictions = predict_image(model, image_tensor, class_names)\n",
    "            \n",
    "            writer.writerow([image_file] + [class_name for class_name, _ in predictions])\n",
    "\n",
    "            if (step + 1) % 100 == 0:\n",
    "                print(f\"Done step {step+1}/{total}\")\n",
    "\n",
    "    print(f\"Predictions saved to {csv_path}\")"
   ]
  },
  {
   "cell_type": "code",
   "execution_count": 7,
   "metadata": {
    "_cell_guid": "b1076dfc-b9ad-4769-8c92-a6c4dae69d19",
    "_uuid": "8f2839f25d086af736a60e9eeb907d3b93b6e0e5",
    "execution": {
     "iopub.execute_input": "2025-01-22T22:08:28.960771Z",
     "iopub.status.busy": "2025-01-22T22:08:28.960498Z",
     "iopub.status.idle": "2025-01-22T22:08:29.038489Z",
     "shell.execute_reply": "2025-01-22T22:08:29.037448Z",
     "shell.execute_reply.started": "2025-01-22T22:08:28.960750Z"
    },
    "trusted": true
   },
   "outputs": [],
   "source": [
    "train_dir = \"/kaggle/input/artist-identification/artist_dataset/train\"\n",
    "test_dir = \"/kaggle/input/artist-identification/artist_dataset/test\"\n",
    "\n",
    "NUM_CLASSES = 161\n",
    "INPUT_SIZE = 512\n",
    "NORM_STATS = {\n",
    "    \"mean\": [\n",
    "        0.47527796030044556,\n",
    "        0.42012834548950195,\n",
    "        0.3588443994522095\n",
    "    ],\n",
    "    \"std\": [\n",
    "        0.2794029116630554,\n",
    "        0.27445685863494873,\n",
    "        0.264132022857666\n",
    "    ]\n",
    "}\n",
    "DEVICE = torch.device(\"cuda\" if torch.cuda.is_available() else \"cpu\")"
   ]
  },
  {
   "cell_type": "code",
   "execution_count": 10,
   "metadata": {
    "execution": {
     "iopub.execute_input": "2025-01-22T22:13:47.210458Z",
     "iopub.status.busy": "2025-01-22T22:13:47.210182Z",
     "iopub.status.idle": "2025-01-22T22:13:57.381152Z",
     "shell.execute_reply": "2025-01-22T22:13:57.380429Z",
     "shell.execute_reply.started": "2025-01-22T22:13:47.210439Z"
    },
    "trusted": true
   },
   "outputs": [
    {
     "name": "stderr",
     "output_type": "stream",
     "text": [
      "Downloading: \"https://download.pytorch.org/models/regnet_x_400mf-adf1edd5.pth\" to /root/.cache/torch/hub/checkpoints/regnet_x_400mf-adf1edd5.pth\n",
      "100%|██████████| 21.3M/21.3M [00:00<00:00, 110MB/s] \n"
     ]
    }
   ],
   "source": [
    "MODEL_PATH = \"/kaggle/input/last_regnet_bs16_hog/pytorch/default/1/best_model_29.pth.tar\"\n",
    "hog_config = Config().hog\n",
    "model = MultiBranchArtistNetwork(num_classes=NUM_CLASSES, stn=BackboneType.REGNET_X_400MF, use_handcrafted=True, hog_params=hog_config).to(DEVICE)\n",
    "if MODEL_PATH.endswith(\".pth\"):\n",
    "    model.load_state_dict(torch.load(MODEL_PATH, weights_only=True))\n",
    "elif MODEL_PATH.endswith(\".pth.tar\"):\n",
    "    model.load_state_dict(torch.load(MODEL_PATH, weights_only=False).get(\"model_state_dict\"))"
   ]
  },
  {
   "cell_type": "code",
   "execution_count": 11,
   "metadata": {
    "execution": {
     "iopub.execute_input": "2025-01-22T22:14:03.551474Z",
     "iopub.status.busy": "2025-01-22T22:14:03.551043Z",
     "iopub.status.idle": "2025-01-22T22:14:03.557636Z",
     "shell.execute_reply": "2025-01-22T22:14:03.556839Z",
     "shell.execute_reply.started": "2025-01-22T22:14:03.551450Z"
    },
    "trusted": true
   },
   "outputs": [],
   "source": [
    "CLASS_NAMES = [\n",
    "    'adriaen-van-ostade', 'agnolo-bronzino', 'albrecht-altdorfer', 'albrecht-durer', 'aleksey-savrasov',\n",
    "    'alexey-venetsianov', 'alfred-stevens', 'anders-zorn', 'andrea-del-sarto', 'andrea-mantegna', \n",
    "    'andrei-ryabushkin', 'anthony-van-dyck', 'antoine-pesne', 'antoine-watteau', 'arkhip-kuindzhi', \n",
    "    'bartolome-esteban-murillo', 'benjamin-west', 'benozzo-gozzoli', 'bernardo-bellotto', \n",
    "    'boris-kustodiev', 'camille-corot', 'camille-pissarro', 'canaletto', 'caravaggio', 'carlo-crivelli',\n",
    "    'caspar-david-friedrich', 'charles-francois-daubigny', 'cornelis-springer', 'correggio', \n",
    "    'dante-gabriel-rossetti', 'david-teniers-the-younger', 'diego-velazquez', 'dmitry-levitzky', \n",
    "    'domenico-ghirlandaio', 'edouard-manet', 'edward-burne-jones', 'edward-hopper', 'edwin-henry-landseer',\n",
    "    'el-greco', 'esaias-van-de-velde', 'eugene-boudin', 'eugene-delacroix', 'filippo-lippi', 'fra-angelico',\n",
    "    'francesco-guardi', 'francisco-de-zurbaran', 'francisco-goya', 'frans-hals', 'frans-snyders', \n",
    "    'fyodor-bronnikov', 'fyodor-vasilyev', 'george-morland', 'george-stubbs', 'gerard-david', 'gerrit-dou', \n",
    "    'gian-lorenzo-bernini', 'giorgio-vasari', 'giovanni-battista-tiepolo', 'giovanni-bellini', 'giovanni-boldini',\n",
    "    'giovanni-domenico-tiepolo', 'guido-reni', 'gustave-courbet', 'gustave-dore', 'hans-holbein-the-younger',\n",
    "    'hans-memling', 'henri-fantin-latour', 'henry-raeburn', 'hieronymus-bosch', 'ilya-repin', 'isaac-levitan',\n",
    "    'ivan-aivazovsky', 'ivan-kramskoy', 'ivan-shishkin', 'ivan-vladimirov', 'jacob-jordaens', 'jacopo-pontormo', \n",
    "    'james-mcneill-whistler', 'james-tissot', 'jan-matejko', 'jan-steen', 'jan-van-eyck', 'jean-baptiste-simeon-chardin',\n",
    "    'jean-fouquet', 'jean-francois-millet', 'jean-honore-fragonard', 'johan-hendrik-weissenbruch', \n",
    "    'john-atkinson-grimshaw', 'john-constable', 'john-crome', 'john-everett-millais', 'john-french-sloan', \n",
    "    'john-hoppner', 'john-singer-sargent', 'john-william-waterhouse', 'joseph-wright', 'joshua-reynolds', \n",
    "    'julius-leblanc-stewart', 'karl-bodmer', 'karl-bryullov', 'konstantin-makovsky', 'leonardo-da-vinci', \n",
    "    'lev-lagorio', 'lorenzo-lotto', 'louise-elisabeth-vigee-le-brun', 'luca-signorelli', 'mabuse', \n",
    "    'maerten-van-heemskerck', 'martin-schongauer', 'martiros-saryan', 'maurice-quentin-de-la-tour', \n",
    "    'michelangelo', 'n.c.-wyeth', 'nicholas-roerich', 'nikolai-ge', 'nikolay-bogdanov-belsky', \n",
    "    'odilon-redon', 'orest-kiprensky', 'paolo-uccello', 'paolo-veronese', 'paul-cezanne', 'pavel-svinyin', \n",
    "    'peter-paul-rubens', 'piero-della-francesca', 'pieter-bruegel-the-elder', 'pieter-de-hooch', \n",
    "    'pietro-longhi', 'pietro-perugino', 'pyotr-konchalovsky', 'raphael', 'rembrandt', 'rogier-van-der-weyden',\n",
    "    'rudolf-von-alt', 'salvador-dali', 'sandro-botticelli', 'sir-lawrence-alma-tadema', 'taras-shevchenko',\n",
    "    'theodore-gericault', 'theodore-rousseau', 'thomas-cole', 'thomas-eakins', 'thomas-gainsborough', \n",
    "    'tintoretto', 'titian', 'valentin-serov', 'vasily-perov', 'vasily-polenov', 'vasily-surikov', 'vasily-tropinin', \n",
    "    'vasily-vereshchagin', 'viktor-vasnetsov', 'vincent-van-gogh', 'vittore-carpaccio', 'vladimir-borovikovsky', \n",
    "    'vladimir-makovsky', 'volodymyr-orlovsky', 'william-adolphe-bouguereau', 'william-hogarth', \n",
    "    'william-shayer', 'william-turner', 'winslow-homer'\n",
    "]"
   ]
  },
  {
   "cell_type": "code",
   "execution_count": 12,
   "metadata": {
    "execution": {
     "iopub.execute_input": "2025-01-22T22:14:07.523761Z",
     "iopub.status.busy": "2025-01-22T22:14:07.523413Z",
     "iopub.status.idle": "2025-01-22T22:14:07.534272Z",
     "shell.execute_reply": "2025-01-22T22:14:07.533638Z",
     "shell.execute_reply.started": "2025-01-22T22:14:07.523734Z"
    },
    "trusted": true
   },
   "outputs": [],
   "source": [
    "class_names = sorted(os.listdir(train_dir))\n",
    "assert class_names == CLASS_NAMES, f\"Something wrong in categories\"\n",
    "assert len(class_names) == NUM_CLASSES, f\"Categories mismatch, expected {NUM_CLASSES}, found {len(class_names)}\""
   ]
  },
  {
   "cell_type": "code",
   "execution_count": 13,
   "metadata": {
    "execution": {
     "iopub.execute_input": "2025-01-22T22:14:10.046224Z",
     "iopub.status.busy": "2025-01-22T22:14:10.045941Z",
     "iopub.status.idle": "2025-01-22T22:18:42.184531Z",
     "shell.execute_reply": "2025-01-22T22:18:42.183738Z",
     "shell.execute_reply.started": "2025-01-22T22:14:10.046204Z"
    },
    "trusted": true
   },
   "outputs": [
    {
     "name": "stdout",
     "output_type": "stream",
     "text": [
      "Done step 100/3960\n",
      "Done step 200/3960\n",
      "Done step 300/3960\n",
      "Done step 400/3960\n",
      "Done step 500/3960\n",
      "Done step 600/3960\n",
      "Done step 700/3960\n",
      "Done step 800/3960\n",
      "Done step 900/3960\n",
      "Done step 1000/3960\n",
      "Done step 1100/3960\n",
      "Done step 1200/3960\n",
      "Done step 1300/3960\n",
      "Done step 1400/3960\n",
      "Done step 1500/3960\n",
      "Done step 1600/3960\n",
      "Done step 1700/3960\n",
      "Done step 1800/3960\n",
      "Done step 1900/3960\n",
      "Done step 2000/3960\n",
      "Done step 2100/3960\n",
      "Done step 2200/3960\n",
      "Done step 2300/3960\n",
      "Done step 2400/3960\n",
      "Done step 2500/3960\n",
      "Done step 2600/3960\n",
      "Done step 2700/3960\n",
      "Done step 2800/3960\n",
      "Done step 2900/3960\n",
      "Done step 3000/3960\n",
      "Done step 3100/3960\n",
      "Done step 3200/3960\n",
      "Done step 3300/3960\n",
      "Done step 3400/3960\n",
      "Done step 3500/3960\n",
      "Done step 3600/3960\n",
      "Done step 3700/3960\n",
      "Done step 3800/3960\n",
      "Done step 3900/3960\n",
      "Predictions saved to /kaggle/working/predictions.csv\n"
     ]
    }
   ],
   "source": [
    "evaluate_model(model, test_dir, class_names, INPUT_SIZE, NORM_STATS, DEVICE)"
   ]
  },
  {
   "cell_type": "code",
   "execution_count": 18,
   "metadata": {
    "execution": {
     "iopub.execute_input": "2025-01-22T22:19:23.161489Z",
     "iopub.status.busy": "2025-01-22T22:19:23.161171Z",
     "iopub.status.idle": "2025-01-22T22:19:23.301401Z",
     "shell.execute_reply": "2025-01-22T22:19:23.300359Z",
     "shell.execute_reply.started": "2025-01-22T22:19:23.161468Z"
    },
    "trusted": true
   },
   "outputs": [
    {
     "name": "stdout",
     "output_type": "stream",
     "text": [
      "total 392\n",
      "drwxr-xr-x  5 root root   4096 Jan 22 22:14 .\n",
      "drwxr-xr-x  5 root root   4096 Jan 22 22:07 ..\n",
      "drwxr-xr-x 10 root root   4096 Jan 22 22:08 mlvm-project\n",
      "-rw-r--r--  1 root root 374840 Jan 22 22:18 predictions.csv\n",
      "drwxr-xr-x  9 root root   4096 Jan 22 22:08 src\n",
      "drwxr-xr-x  2 root root   4096 Jan 22 22:08 .virtual_documents\n"
     ]
    }
   ],
   "source": [
    "!ls -la /kaggle/working"
   ]
  }
 ],
 "metadata": {
  "kaggle": {
   "accelerator": "nvidiaTeslaT4",
   "dataSources": [
    {
     "databundleVersionId": 9709110,
     "sourceId": 85769,
     "sourceType": "competition"
    },
    {
     "modelId": 207517,
     "modelInstanceId": 185379,
     "sourceId": 217400,
     "sourceType": "modelInstanceVersion"
    },
    {
     "modelId": 214248,
     "modelInstanceId": 192309,
     "sourceId": 225459,
     "sourceType": "modelInstanceVersion"
    },
    {
     "modelId": 214262,
     "modelInstanceId": 192320,
     "sourceId": 225473,
     "sourceType": "modelInstanceVersion"
    },
    {
     "modelId": 215212,
     "modelInstanceId": 193273,
     "sourceId": 226624,
     "sourceType": "modelInstanceVersion"
    },
    {
     "modelId": 215281,
     "modelInstanceId": 193349,
     "sourceId": 226726,
     "sourceType": "modelInstanceVersion"
    },
    {
     "modelId": 215418,
     "modelInstanceId": 193488,
     "sourceId": 226903,
     "sourceType": "modelInstanceVersion"
    },
    {
     "modelId": 215425,
     "modelInstanceId": 193497,
     "sourceId": 226912,
     "sourceType": "modelInstanceVersion"
    },
    {
     "modelId": 215764,
     "modelInstanceId": 193847,
     "sourceId": 227354,
     "sourceType": "modelInstanceVersion"
    },
    {
     "isSourceIdPinned": true,
     "modelId": 215825,
     "modelInstanceId": 193908,
     "sourceId": 227432,
     "sourceType": "modelInstanceVersion"
    },
    {
     "isSourceIdPinned": true,
     "modelId": 218842,
     "modelInstanceId": 197000,
     "sourceId": 230989,
     "sourceType": "modelInstanceVersion"
    },
    {
     "isSourceIdPinned": true,
     "modelId": 221609,
     "modelInstanceId": 199783,
     "sourceId": 233919,
     "sourceType": "modelInstanceVersion"
    },
    {
     "isSourceIdPinned": true,
     "modelId": 221610,
     "modelInstanceId": 199784,
     "sourceId": 233920,
     "sourceType": "modelInstanceVersion"
    },
    {
     "isSourceIdPinned": true,
     "modelId": 221617,
     "modelInstanceId": 199791,
     "sourceId": 233927,
     "sourceType": "modelInstanceVersion"
    },
    {
     "isSourceIdPinned": true,
     "modelId": 222230,
     "modelInstanceId": 200418,
     "sourceId": 234641,
     "sourceType": "modelInstanceVersion"
    },
    {
     "isSourceIdPinned": true,
     "modelId": 222440,
     "modelInstanceId": 200619,
     "sourceId": 234864,
     "sourceType": "modelInstanceVersion"
    },
    {
     "isSourceIdPinned": true,
     "modelId": 222829,
     "modelInstanceId": 201021,
     "sourceId": 235346,
     "sourceType": "modelInstanceVersion"
    },
    {
     "isSourceIdPinned": true,
     "modelId": 225606,
     "modelInstanceId": 203863,
     "sourceId": 238699,
     "sourceType": "modelInstanceVersion"
    }
   ],
   "dockerImageVersionId": 30823,
   "isGpuEnabled": true,
   "isInternetEnabled": true,
   "language": "python",
   "sourceType": "notebook"
  },
  "kernelspec": {
   "display_name": "Python 3",
   "language": "python",
   "name": "python3"
  },
  "language_info": {
   "codemirror_mode": {
    "name": "ipython",
    "version": 3
   },
   "file_extension": ".py",
   "mimetype": "text/x-python",
   "name": "python",
   "nbconvert_exporter": "python",
   "pygments_lexer": "ipython3",
   "version": "3.10.12"
  }
 },
 "nbformat": 4,
 "nbformat_minor": 4
}
