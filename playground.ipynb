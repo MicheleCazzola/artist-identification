{
 "cells": [
  {
   "cell_type": "code",
   "execution_count": 17,
   "metadata": {},
   "outputs": [],
   "source": [
    "import torch\n",
    "import torch.nn.functional as F"
   ]
  },
  {
   "cell_type": "code",
   "execution_count": 18,
   "metadata": {},
   "outputs": [],
   "source": [
    "scores = torch.rand(10)\n",
    "tk = scores.topk(5).indices"
   ]
  },
  {
   "cell_type": "code",
   "execution_count": 19,
   "metadata": {},
   "outputs": [
    {
     "data": {
      "text/plain": [
       "(tensor([1.0000, 0.5000, 0.3333, 0.2500, 0.2000], requires_grad=True),\n",
       " tensor([0.3288, 0.1994, 0.1688, 0.1553, 0.1477], grad_fn=<SoftmaxBackward0>),\n",
       " tensor([-1.1124, -1.6124, -1.7791, -1.8624, -1.9124],\n",
       "        grad_fn=<LogSoftmaxBackward0>))"
      ]
     },
     "execution_count": 19,
     "metadata": {},
     "output_type": "execute_result"
    }
   ],
   "source": [
    "w = torch.tensor([1/(k+1) for k in range(5)], dtype=torch.float32, requires_grad=True)\n",
    "\n",
    "s = F.softmax(w, dim=0)\n",
    "ls = F.log_softmax(w, dim=0)\n",
    "w,s,ls"
   ]
  },
  {
   "cell_type": "code",
   "execution_count": 20,
   "metadata": {},
   "outputs": [
    {
     "data": {
      "text/plain": [
       "[<matplotlib.lines.Line2D at 0x1dae29dc3d0>]"
      ]
     },
     "execution_count": 20,
     "metadata": {},
     "output_type": "execute_result"
    },
    {
     "data": {
      "image/png": "[encoded data removed]",
      "text/plain": [
       "<Figure size 640x480 with 1 Axes>"
      ]
     },
     "metadata": {},
     "output_type": "display_data"
    }
   ],
   "source": [
    "import matplotlib.pyplot as plt\n",
    "\n",
    "plt.plot(w.detach().numpy(), label='w')\n",
    "plt.plot(s.detach().numpy(), label='s')\n",
    "plt.plot(ls.detach().numpy(), label='ls')"
   ]
  },
  {
   "cell_type": "code",
   "execution_count": 23,
   "metadata": {},
   "outputs": [
    {
     "data": {
      "text/plain": [
       "(tensor([1.0000, 0.5000, 0.3333, 0.2500, 0.2000], requires_grad=True),\n",
       " tensor([0.9205, 0.1195, 0.4207, 0.6318, 0.1963, 0.6741, 0.1797, 0.6193, 0.7459,\n",
       "         0.0239]),\n",
       " tensor([0.9205, 0.7459, 0.6741, 0.6318, 0.6193]),\n",
       " tensor([0.9205, 0.3729, 0.2247, 0.1580, 0.1239], grad_fn=<MulBackward0>),\n",
       " tensor([0.3026, 0.1487, 0.1138, 0.0981, 0.0915], grad_fn=<MulBackward0>),\n",
       " tensor([-1.0239, -1.2026, -1.1992, -1.1767, -1.1844], grad_fn=<MulBackward0>))"
      ]
     },
     "execution_count": 23,
     "metadata": {},
     "output_type": "execute_result"
    }
   ],
   "source": [
    "w, scores, scores[tk], scores[tk] * w, scores[tk] * s, scores[tk] * ls"
   ]
  },
  {
   "cell_type": "code",
   "execution_count": 25,
   "metadata": {},
   "outputs": [],
   "source": [
    "lscores = torch.zeros_like(scores)\n",
    "lscores[tk] = scores[tk] * ls"
   ]
  },
  {
   "cell_type": "code",
   "execution_count": 26,
   "metadata": {},
   "outputs": [
    {
     "data": {
      "text/plain": [
       "tensor([-1.0239,  0.0000,  0.0000, -1.1767,  0.0000, -1.1992,  0.0000, -1.1844,\n",
       "        -1.2026,  0.0000], grad_fn=<IndexPutBackward0>)"
      ]
     },
     "execution_count": 26,
     "metadata": {},
     "output_type": "execute_result"
    }
   ],
   "source": [
    "lscores"
   ]
  },
  {
   "cell_type": "code",
   "execution_count": null,
   "metadata": {},
   "outputs": [],
   "source": [
    "scores[tk] = scores[tk] * w"
   ]
  },
  {
   "cell_type": "code",
   "execution_count": 28,
   "metadata": {},
   "outputs": [
    {
     "data": {
      "text/plain": [
       "(tensor([0.2354, 0.6039, 0.3375, 0.7665, 0.7575, 0.3047, 0.1899, 0.9926, 0.5916,\n",
       "         0.6377]),\n",
       " tensor([ 0.0000, -1.1550,  0.0000, -1.2360, -1.3476,  0.0000,  0.0000, -1.1042,\n",
       "          0.0000, -1.1876], grad_fn=<IndexPutBackward0>))"
      ]
     },
     "execution_count": 28,
     "metadata": {},
     "output_type": "execute_result"
    }
   ],
   "source": [
    "scores = torch.rand(10)\n",
    "tk = scores.topk(5).indices\n",
    "\n",
    "w = torch.tensor([1/(k+1) for k in range(5)], dtype=torch.float32, requires_grad=True)\n",
    "ls = F.log_softmax(w, dim=0)\n",
    "\n",
    "lscores = torch.zeros_like(scores)\n",
    "lscores[tk] = scores[tk] * ls\n",
    "scores, lscores"
   ]
  },
  {
   "cell_type": "code",
   "execution_count": 30,
   "metadata": {},
   "outputs": [
    {
     "data": {
      "text/plain": [
       "tensor(1.2360, grad_fn=<NllLossBackward0>)"
      ]
     },
     "execution_count": 30,
     "metadata": {},
     "output_type": "execute_result"
    }
   ],
   "source": [
    "label = torch.tensor([3])\n",
    "criterion = torch.nn.NLLLoss()\n",
    "\n",
    "loss = criterion(lscores.unsqueeze(0), label)\n",
    "loss"
   ]
  },
  {
   "cell_type": "code",
   "execution_count": 31,
   "metadata": {},
   "outputs": [
    {
     "data": {
      "text/plain": [
       "tensor(2.1095)"
      ]
     },
     "execution_count": 31,
     "metadata": {},
     "output_type": "execute_result"
    }
   ],
   "source": [
    "torch.nn.CrossEntropyLoss()(scores.unsqueeze(0), label)"
   ]
  }
 ],
 "metadata": {
  "kernelspec": {
   "display_name": "venv",
   "language": "python",
   "name": "python3"
  },
  "language_info": {
   "codemirror_mode": {
    "name": "ipython",
    "version": 3
   },
   "file_extension": ".py",
   "mimetype": "text/x-python",
   "name": "python",
   "nbconvert_exporter": "python",
   "pygments_lexer": "ipython3",
   "version": "3.11.8"
  }
 },
 "nbformat": 4,
 "nbformat_minor": 2
}
